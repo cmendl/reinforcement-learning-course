{
 "cells": [
  {
   "cell_type": "markdown",
   "metadata": {},
   "source": [
    "# Iterative algorithms for MDPs, demonstrated via a grid world toy model"
   ]
  },
  {
   "cell_type": "markdown",
   "metadata": {},
   "source": [
    "The agent moves within a maze (grid world) and tries to reach an exit field with a positive reward. The locomotion is probabilistic, e.g., if the agent chooses action ↑, he will actually move up with 80% probability, but has a 10% chance to end up in the field left or right of him, respectively. The rules for actions ↓, ←, → work analogously. For impossible movements (to inaccessible fields), the agent simply remains at the current location.\n",
    "\n",
    "(Adapted from the textbook \"Artificial Intelligence: A Modern Approach\".)"
   ]
  },
  {
   "cell_type": "code",
   "execution_count": 1,
   "metadata": {},
   "outputs": [],
   "source": [
    "import numpy as np"
   ]
  },
  {
   "cell_type": "code",
   "execution_count": 2,
   "metadata": {},
   "outputs": [],
   "source": [
    "# iterative algorithms and utility functions for Markov Decision Processes (MDPs)\n",
    "import mdp"
   ]
  },
  {
   "cell_type": "code",
   "execution_count": 3,
   "metadata": {},
   "outputs": [],
   "source": [
    "# environment\n",
    "from env import MazeEnv"
   ]
  },
  {
   "cell_type": "code",
   "execution_count": 4,
   "metadata": {},
   "outputs": [
    {
     "name": "stdout",
     "output_type": "stream",
     "text": [
      "# S: start, X: inaccessible, E: exit with reward +1, F: exit with reward -1\n",
      "...E\n",
      ".X.F\n",
      "S...\n"
     ]
    }
   ],
   "source": [
    "# show description of maze (grid world) geometry\n",
    "with open('maze_geometry.txt', 'r') as file:\n",
    "    for line in file:\n",
    "        print(line, end='')"
   ]
  },
  {
   "cell_type": "code",
   "execution_count": 5,
   "metadata": {},
   "outputs": [],
   "source": [
    "# \"reward\" on regular fields\n",
    "r = -0.04"
   ]
  },
  {
   "cell_type": "code",
   "execution_count": 6,
   "metadata": {},
   "outputs": [],
   "source": [
    "# define environment\n",
    "e = MazeEnv('maze_geometry.txt', r)"
   ]
  },
  {
   "cell_type": "code",
   "execution_count": 7,
   "metadata": {},
   "outputs": [],
   "source": [
    "# discount factor\n",
    "gamma = 0.99"
   ]
  },
  {
   "cell_type": "code",
   "execution_count": 8,
   "metadata": {},
   "outputs": [
    {
     "name": "stdout",
     "output_type": "stream",
     "text": [
      "value iteration with epsilon=1e-14 completed after 56 iterations\n",
      "value function (r = -0.04, gamma = 0.99):\n",
      "[[ 0.776  0.844  0.905  1.   ]\n",
      " [ 0.717    nan  0.641 -1.   ]\n",
      " [ 0.651  0.593  0.56   0.338]]\n"
     ]
    }
   ],
   "source": [
    "# perform value iteration\n",
    "u = mdp.value_iteration(e.tprob, e.rewards, gamma)\n",
    "print('value function (r = {}, gamma = {}):'.format(r, gamma))\n",
    "if hasattr(np, 'printoptions'):\n",
    "    with np.printoptions(precision=3):\n",
    "        print(e.maze_array(u))\n",
    "else:\n",
    "    print(e.maze_array(u))"
   ]
  },
  {
   "cell_type": "code",
   "execution_count": 9,
   "metadata": {},
   "outputs": [
    {
     "name": "stdout",
     "output_type": "stream",
     "text": [
      "optimal policy (r = -0.04, gamma = 0.99):\n",
      "→ → → E\n",
      "↑ █ ↑ F\n",
      "↑ ← ↑ ←\n"
     ]
    }
   ],
   "source": [
    "# optimal policy corresponding to u\n",
    "pol = mdp.policy_from_utility(e.tprob, u)\n",
    "print('optimal policy (r = {}, gamma = {}):'.format(r, gamma))\n",
    "print(e.draw_policy(pol))"
   ]
  },
  {
   "cell_type": "code",
   "execution_count": 10,
   "metadata": {},
   "outputs": [
    {
     "name": "stdout",
     "output_type": "stream",
     "text": [
      "utility from policy consistency check error: 3.554447978966673e-16\n"
     ]
    }
   ],
   "source": [
    "# consistency check\n",
    "if gamma < 1:\n",
    "    upol = mdp.utility_from_policy(e.tprob, e.rewards, gamma, pol)\n",
    "    uerr = np.linalg.norm(upol - u)\n",
    "    print('utility from policy consistency check error:', uerr)"
   ]
  },
  {
   "cell_type": "code",
   "execution_count": 11,
   "metadata": {},
   "outputs": [
    {
     "name": "stdout",
     "output_type": "stream",
     "text": [
      "policy iteration completed after 3 iterations\n",
      "policy iteration consistency check error: 0.0\n"
     ]
    }
   ],
   "source": [
    "# alternative: policy iteration\n",
    "if gamma < 1:\n",
    "    pal = mdp.policy_iteration(e.tprob, e.rewards, gamma)\n",
    "    palerr = np.linalg.norm((pal - pol) * e.pmask)\n",
    "    print('policy iteration consistency check error:', palerr)"
   ]
  },
  {
   "cell_type": "code",
   "execution_count": 12,
   "metadata": {},
   "outputs": [
    {
     "name": "stdout",
     "output_type": "stream",
     "text": [
      "Q-value iteration with epsilon=1e-14 completed after 52 iterations\n",
      "[[ 0.56476064  0.65066309  0.61068739  0.59841561]\n",
      " [ 0.52092694  0.54926123  0.59267477  0.54926123]\n",
      " [ 0.34666916  0.5600724   0.54833699  0.49571846]\n",
      " [ 0.1621969  -0.74308651  0.33804366  0.31664407]\n",
      " [ 0.66883065  0.71663212  0.66883065  0.61721832]\n",
      " [-0.68694834  0.64132736  0.61298293  0.36806875]\n",
      " [-1.         -1.         -1.         -1.        ]\n",
      " [ 0.77618555  0.7351309   0.72252791  0.68796458]\n",
      " [ 0.84393511  0.79484347  0.74183811  0.79484347]\n",
      " [ 0.9050959   0.85938553  0.78149251  0.65048085]\n",
      " [ 1.          1.          1.          1.        ]\n",
      " [ 0.          0.          0.          0.        ]]\n"
     ]
    }
   ],
   "source": [
    "# Q-value function\n",
    "Q = mdp.q_iteration(e.tprob, e.rewards, gamma)\n",
    "print(Q)"
   ]
  },
  {
   "cell_type": "code",
   "execution_count": 13,
   "metadata": {},
   "outputs": [
    {
     "name": "stdout",
     "output_type": "stream",
     "text": [
      "utility from Q-value consistency check error: 8.233634315563857e-16\n"
     ]
    }
   ],
   "source": [
    "# can obtain utility from Q-value function\n",
    "uQ = mdp.utility_from_qvalue(Q)\n",
    "uQerr = np.linalg.norm(u - uQ)\n",
    "print('utility from Q-value consistency check error:', uQerr)"
   ]
  },
  {
   "cell_type": "code",
   "execution_count": 14,
   "metadata": {},
   "outputs": [
    {
     "name": "stdout",
     "output_type": "stream",
     "text": [
      "policy from Q-value consistency check error: 0.0\n"
     ]
    }
   ],
   "source": [
    "# can obtain policy from Q-value function\n",
    "pQ = mdp.policy_from_qvalue(Q)\n",
    "pQerr = np.linalg.norm((pQ - pol) * e.pmask)\n",
    "print('policy from Q-value consistency check error:', pQerr)"
   ]
  },
  {
   "cell_type": "code",
   "execution_count": 15,
   "metadata": {},
   "outputs": [
    {
     "name": "stdout",
     "output_type": "stream",
     "text": [
      "step 0\n",
      "reward: -0.04\n",
      "░ ░ ░ E\n",
      "░ █ ░ F\n",
      "☺ ░ ░ ░\n",
      "action: ↑\n",
      "_____________\n",
      "step 1\n",
      "reward: -0.04\n",
      "░ ░ ░ E\n",
      "☺ █ ░ F\n",
      "░ ░ ░ ░\n",
      "action: ↑\n",
      "_____________\n",
      "step 2\n",
      "reward: -0.04\n",
      "☺ ░ ░ E\n",
      "░ █ ░ F\n",
      "░ ░ ░ ░\n",
      "action: →\n",
      "_____________\n",
      "step 3\n",
      "reward: -0.04\n",
      "░ ☺ ░ E\n",
      "░ █ ░ F\n",
      "░ ░ ░ ░\n",
      "action: →\n",
      "_____________\n",
      "step 4\n",
      "reward: -0.04\n",
      "░ ☺ ░ E\n",
      "░ █ ░ F\n",
      "░ ░ ░ ░\n",
      "action: →\n",
      "_____________\n",
      "step 5\n",
      "reward: -0.04\n",
      "░ ░ ☺ E\n",
      "░ █ ░ F\n",
      "░ ░ ░ ░\n",
      "action: →\n",
      "_____________\n",
      "step 6\n",
      "reward: 1.0\n",
      "░ ░ ░ ☺\n",
      "░ █ ░ F\n",
      "░ ░ ░ ░\n",
      "action: →\n",
      "_____________\n",
      "Game over!\n",
      "cumulative discounted reward (gamma = 0.99): 0.707400747005\n"
     ]
    }
   ],
   "source": [
    "# play a game\n",
    "e.play(pol, gamma)"
   ]
  }
 ],
 "metadata": {
  "kernelspec": {
   "display_name": "Python 3",
   "language": "python",
   "name": "python3"
  },
  "language_info": {
   "codemirror_mode": {
    "name": "ipython",
    "version": 3
   },
   "file_extension": ".py",
   "mimetype": "text/x-python",
   "name": "python",
   "nbconvert_exporter": "python",
   "pygments_lexer": "ipython3",
   "version": "3.6.8"
  }
 },
 "nbformat": 4,
 "nbformat_minor": 2
}
