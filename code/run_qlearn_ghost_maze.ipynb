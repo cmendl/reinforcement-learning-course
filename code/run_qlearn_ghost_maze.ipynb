{
 "cells": [
  {
   "cell_type": "markdown",
   "metadata": {},
   "source": [
    "# Classical Q-learning algorihm for MDPs"
   ]
  },
  {
   "cell_type": "code",
   "execution_count": 1,
   "metadata": {},
   "outputs": [],
   "source": [
    "import numpy as np"
   ]
  },
  {
   "cell_type": "code",
   "execution_count": 2,
   "metadata": {},
   "outputs": [],
   "source": [
    "# iterative algorithms and utility functions for Markov Decision Processes (MDPs)\n",
    "import mdp"
   ]
  },
  {
   "cell_type": "code",
   "execution_count": 3,
   "metadata": {},
   "outputs": [],
   "source": [
    "# environment\n",
    "from env import MazeGhostEnv"
   ]
  },
  {
   "cell_type": "code",
   "execution_count": 4,
   "metadata": {},
   "outputs": [],
   "source": [
    "# TODO: complete the function definition (see function body)\n",
    "\n",
    "def q_learn(e, gamma, eta, nepisodes=100000):\n",
    "    \"\"\"\n",
    "    Q-learning algorithm.\n",
    "\n",
    "    Args:\n",
    "        e:         environment\n",
    "        gamma:     discount factor\n",
    "        eta:       learning rate\n",
    "        nepisodes: number of episodes (to-be played games)\n",
    "\n",
    "    Returns:\n",
    "        numpy.ndarray: Q-value function\n",
    "    \"\"\"\n",
    "    Q = np.zeros((e.num_states, e.num_actions))\n",
    "    for i in range(nepisodes):\n",
    "        # initial (uniformly random) state and reward\n",
    "        s = np.random.randint(e.num_states)\n",
    "        r = e.rewards[s]\n",
    "        game_over = False\n",
    "        while not game_over:\n",
    "            # choose an action based on softmax probability derived from Q[s, :]\n",
    "            pqs = np.exp(Q[s, :])\n",
    "            pqs /= np.sum(pqs)\n",
    "            a = np.random.choice(e.num_actions, p=pqs)\n",
    "            # transition to next state\n",
    "            (snext, rnext, game_over) = e.step(s, a)\n",
    "            #\n",
    "            # TODO: Update Q-value function for state 's' and action 'a'.\n",
    "            #\n",
    "            s = snext\n",
    "            r = rnext\n",
    "        if (i+1) % (nepisodes//10) == 0:\n",
    "            print('{}%'.format(100*(i+1)//nepisodes))\n",
    "    return Q"
   ]
  },
  {
   "cell_type": "code",
   "execution_count": 5,
   "metadata": {},
   "outputs": [],
   "source": [
    "# Solution:\n",
    "#\n",
    "#def q_learn(e, gamma, eta, nepisodes=100000):\n",
    "#    \"\"\"\n",
    "#    Q-learning algorithm.\n",
    "#\n",
    "#    Args:\n",
    "#        e:         environment\n",
    "#        gamma:     discount factor\n",
    "#        eta:       learning rate\n",
    "#        nepisodes: number of episodes (to-be played games)\n",
    "#\n",
    "#    Returns:\n",
    "#        numpy.ndarray: Q-value function\n",
    "#    \"\"\"\n",
    "#    Q = np.zeros((e.num_states, e.num_actions))\n",
    "#    for i in range(nepisodes):\n",
    "#        # initial (uniformly random) state and reward\n",
    "#        s = np.random.randint(e.num_states)\n",
    "#        r = e.rewards[s]\n",
    "#        game_over = False\n",
    "#        while not game_over:\n",
    "#            # choose an action based on softmax probability derived from Q[s, :]\n",
    "#            pqs = np.exp(Q[s, :])\n",
    "#            pqs /= np.sum(pqs)\n",
    "#            a = np.random.choice(e.num_actions, p=pqs)\n",
    "#            # transition to next state\n",
    "#            (snext, rnext, game_over) = e.step(s, a)\n",
    "#            # update Q-value function\n",
    "#            Q[s, a] += eta * (r + gamma * np.amax(Q[snext, :]) - Q[s, a])\n",
    "#            s = snext\n",
    "#            r = rnext\n",
    "#        if (i+1) % (nepisodes//10) == 0:\n",
    "#            print('{}%'.format(100*(i+1)//nepisodes))\n",
    "#    return Q"
   ]
  },
  {
   "cell_type": "code",
   "execution_count": 6,
   "metadata": {},
   "outputs": [
    {
     "name": "stdout",
     "output_type": "stream",
     "text": [
      "# S: start, X: inaccessible, E: exit with reward +1, F: exit with reward -1\n",
      "..XE\n",
      ".X..\n",
      ".X.F\n",
      "S...\n"
     ]
    }
   ],
   "source": [
    "# show description of maze geometry\n",
    "with open('maze_geometry2.txt', 'r') as f:\n",
    "    for line in f:\n",
    "        print(line, end='')"
   ]
  },
  {
   "cell_type": "code",
   "execution_count": 7,
   "metadata": {},
   "outputs": [],
   "source": [
    "# \"reward\" on regular fields\n",
    "r = -0.04"
   ]
  },
  {
   "cell_type": "code",
   "execution_count": 8,
   "metadata": {},
   "outputs": [],
   "source": [
    "# define environment\n",
    "e = MazeGhostEnv('maze_geometry2.txt', r)"
   ]
  },
  {
   "cell_type": "code",
   "execution_count": 9,
   "metadata": {},
   "outputs": [],
   "source": [
    "# discount factor\n",
    "gamma = 0.99"
   ]
  },
  {
   "cell_type": "code",
   "execution_count": 10,
   "metadata": {},
   "outputs": [],
   "source": [
    "# learning rate\n",
    "eta = 0.01"
   ]
  },
  {
   "cell_type": "code",
   "execution_count": 11,
   "metadata": {},
   "outputs": [
    {
     "name": "stdout",
     "output_type": "stream",
     "text": [
      "starting Q-learning algorithm...\n",
      "10%\n",
      "20%\n",
      "30%\n",
      "40%\n",
      "50%\n",
      "60%\n",
      "70%\n",
      "80%\n",
      "90%\n",
      "100%\n"
     ]
    }
   ],
   "source": [
    "# perform Q-learning\n",
    "print('starting Q-learning algorithm...')\n",
    "Qlearn = q_learn(e, gamma, eta)\n",
    "pol = mdp.policy_from_qvalue(Qlearn)"
   ]
  },
  {
   "cell_type": "code",
   "execution_count": 12,
   "metadata": {},
   "outputs": [
    {
     "name": "stdout",
     "output_type": "stream",
     "text": [
      "Q-value iteration with epsilon=1e-14 completed after 139 iterations\n"
     ]
    }
   ],
   "source": [
    "# reference Q-value function and policy\n",
    "Qref = mdp.q_iteration(e.tprob, e.rewards, gamma)\n",
    "pref = mdp.policy_from_qvalue(Qref)"
   ]
  },
  {
   "cell_type": "code",
   "execution_count": 13,
   "metadata": {},
   "outputs": [
    {
     "name": "stdout",
     "output_type": "stream",
     "text": [
      "|Qlearn - Qref|: 0.2984384127827408\n"
     ]
    }
   ],
   "source": [
    "# compare Q-value function with reference\n",
    "print('|Qlearn - Qref|:', np.linalg.norm((Qlearn - Qref).reshape(-1), np.inf))"
   ]
  },
  {
   "cell_type": "code",
   "execution_count": 14,
   "metadata": {},
   "outputs": [
    {
     "name": "stdout",
     "output_type": "stream",
     "text": [
      "Qlearn policy (all possible ghost locations):\n",
      "↓ ← █ E\n",
      "← █ → ↑\n",
      "↓ █ ↑ F\n",
      "G → ↑ ←\n",
      "\n",
      "↓ ← █ E\n",
      "↓ █ → ↑\n",
      "→ █ ↑ F\n",
      "→ G ↑ ↓\n",
      "\n",
      "↓ ← █ E\n",
      "↓ █ → ↑\n",
      "↓ █ ↑ F\n",
      "← → G ←\n",
      "\n",
      "↓ ← █ E\n",
      "↓ █ → ↑\n",
      "↓ █ ↑ F\n",
      "→ ↓ ↑ G\n",
      "\n",
      "↑ ← █ E\n",
      "↓ █ → ↑\n",
      "G █ ↑ F\n",
      "→ → ↑ ←\n",
      "\n",
      "↓ ← █ E\n",
      "↓ █ → ↑\n",
      "↓ █ G F\n",
      "→ ↑ ↑ ↓\n",
      "\n",
      "↓ ← █ E\n",
      "↓ █ ↑ ↑\n",
      "↓ █ ↑ G\n",
      "→ → ↓ ←\n",
      "\n",
      "↓ ↓ █ E\n",
      "G █ → ↑\n",
      "↓ █ ↑ F\n",
      "→ → ↑ ←\n",
      "\n",
      "↓ ← █ E\n",
      "↓ █ G ↑\n",
      "↓ █ ↓ F\n",
      "→ → ↓ ←\n",
      "\n",
      "↓ ← █ E\n",
      "↓ █ → G\n",
      "↓ █ ← F\n",
      "→ → ↑ ↓\n",
      "\n",
      "G ← █ E\n",
      "↓ █ → ↑\n",
      "↓ █ ← F\n",
      "→ → ↑ ←\n",
      "\n",
      "↓ G █ E\n",
      "↓ █ → ↑\n",
      "↓ █ ↑ F\n",
      "→ → ↑ ←\n",
      "\n",
      "↓ ← █ G\n",
      "↓ █ → ↑\n",
      "↓ █ ↑ F\n",
      "→ → ↑ ←\n",
      "number of deviations from reference: 5\n"
     ]
    }
   ],
   "source": [
    "# compare policy with reference\n",
    "print('Qlearn policy (all possible ghost locations):')\n",
    "print(e.draw_policy(pol))\n",
    "print('number of deviations from reference:', np.sum((pol - pref) * e.pmask != 0))"
   ]
  }
 ],
 "metadata": {
  "kernelspec": {
   "display_name": "Python 3",
   "language": "python",
   "name": "python3"
  },
  "language_info": {
   "codemirror_mode": {
    "name": "ipython",
    "version": 3
   },
   "file_extension": ".py",
   "mimetype": "text/x-python",
   "name": "python",
   "nbconvert_exporter": "python",
   "pygments_lexer": "ipython3",
   "version": "3.6.8"
  }
 },
 "nbformat": 4,
 "nbformat_minor": 2
}
